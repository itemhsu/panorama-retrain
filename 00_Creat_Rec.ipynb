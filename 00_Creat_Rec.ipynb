{
 "cells": [
  {
   "cell_type": "markdown",
   "metadata": {},
   "source": [
    "### Please provide your own S3 bucket below. The bucket must contain the trainig iamges. In this example, the bucket is ‘deeplens-imageclassification’. Make Sure S3 bucket name is unique, e.g. deeplens-imageclassfication-name-date"
   ]
  },
  {
   "cell_type": "code",
   "execution_count": 1,
   "metadata": {},
   "outputs": [],
   "source": [
    "bucket='deeplens-imageclassification-matthew'"
   ]
  },
  {
   "cell_type": "code",
   "execution_count": 2,
   "metadata": {},
   "outputs": [],
   "source": [
    "import boto3\n",
    "def upload_to_s3(channel, file):\n",
    "    s3 = boto3.resource('s3')\n",
    "    data = open(file, \"rb\")\n",
    "    key = channel + '/' + file\n",
    "    s3.Bucket(bucket).put_object(Key=key, Body=data)"
   ]
  },
  {
   "cell_type": "code",
   "execution_count": 3,
   "metadata": {},
   "outputs": [],
   "source": [
    "!aws s3 cp s3://deeplens-imageclassification-matthew/data ./data --recursive 2>&1 >/dev/null"
   ]
  },
  {
   "cell_type": "code",
   "execution_count": 4,
   "metadata": {},
   "outputs": [
    {
     "name": "stdout",
     "output_type": "stream",
     "text": [
      "/bin/bash: python: command not found\r\n"
     ]
    }
   ],
   "source": [
    "#data/data表示生成的\".lst\"文件的保存路徑和文件名前綴,比如data_train.lst和data_val.lst\n",
    "#data/train表示要處理圖像所在路徑\n",
    "#--list表示接下來的執行會生成.lst文件\n",
    "#--recursive表示迭代搜索圖像路徑\n",
    "#--train-ratio,表示數據化分比例,0.9表示將數據劃分10份,訓練集:驗證集=9:1\n",
    "!python im2rec.py data/data data/train --list --recursive --train-ratio 0.9\n"
   ]
  },
  {
   "cell_type": "code",
   "execution_count": 5,
   "metadata": {},
   "outputs": [
    {
     "name": "stdout",
     "output_type": "stream",
     "text": [
      "/bin/bash: python: command not found\n",
      "/bin/bash: python: command not found\n"
     ]
    }
   ],
   "source": [
    "#--num-thread 32 代表採用32線程來生成RecordIO文件\n",
    "#data/data_train.lst或data/data_val.lst表示要處理的.lst文件所在路徑.\n",
    "#data/train表示圖像所在路徑\n",
    "!python im2rec.py --num-thread 32 data/data_train.lst data/train\n",
    "!python im2rec.py --num-thread 32 data/data_val.lst data/train"
   ]
  },
  {
   "cell_type": "code",
   "execution_count": 6,
   "metadata": {},
   "outputs": [
    {
     "name": "stdout",
     "output_type": "stream",
     "text": [
      "mv: rename data/data_train.rec to ./data_train.rec: No such file or directory\n",
      "mv: rename data/data_val.rec to ./data_val.rec: No such file or directory\n"
     ]
    }
   ],
   "source": [
    "!mv data/data_train.rec ./\n",
    "!mv data/data_val.rec ./"
   ]
  },
  {
   "cell_type": "code",
   "execution_count": null,
   "metadata": {},
   "outputs": [],
   "source": []
  }
 ],
 "metadata": {
  "kernelspec": {
   "display_name": "Python 3 (ipykernel)",
   "language": "python",
   "name": "python3"
  },
  "language_info": {
   "codemirror_mode": {
    "name": "ipython",
    "version": 3
   },
   "file_extension": ".py",
   "mimetype": "text/x-python",
   "name": "python",
   "nbconvert_exporter": "python",
   "pygments_lexer": "ipython3",
   "version": "3.9.12"
  }
 },
 "nbformat": 4,
 "nbformat_minor": 2
}
